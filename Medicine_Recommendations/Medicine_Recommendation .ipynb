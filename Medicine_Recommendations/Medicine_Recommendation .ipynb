{
 "cells": [
  {
   "cell_type": "code",
   "execution_count": 1,
   "id": "b9978b39",
   "metadata": {},
   "outputs": [
    {
     "data": {
      "text/html": [
       "<div>\n",
       "<style scoped>\n",
       "    .dataframe tbody tr th:only-of-type {\n",
       "        vertical-align: middle;\n",
       "    }\n",
       "\n",
       "    .dataframe tbody tr th {\n",
       "        vertical-align: top;\n",
       "    }\n",
       "\n",
       "    .dataframe thead th {\n",
       "        text-align: right;\n",
       "    }\n",
       "</style>\n",
       "<table border=\"1\" class=\"dataframe\">\n",
       "  <thead>\n",
       "    <tr style=\"text-align: right;\">\n",
       "      <th></th>\n",
       "      <th>Patient ID</th>\n",
       "      <th>Disease</th>\n",
       "      <th>Medicine</th>\n",
       "    </tr>\n",
       "  </thead>\n",
       "  <tbody>\n",
       "    <tr>\n",
       "      <th>0</th>\n",
       "      <td>1</td>\n",
       "      <td>Hypertension</td>\n",
       "      <td>Amlodipine</td>\n",
       "    </tr>\n",
       "    <tr>\n",
       "      <th>1</th>\n",
       "      <td>2</td>\n",
       "      <td>Diabetes</td>\n",
       "      <td>Metformin</td>\n",
       "    </tr>\n",
       "    <tr>\n",
       "      <th>2</th>\n",
       "      <td>3</td>\n",
       "      <td>Asthma</td>\n",
       "      <td>Albuterol</td>\n",
       "    </tr>\n",
       "    <tr>\n",
       "      <th>3</th>\n",
       "      <td>4</td>\n",
       "      <td>Depression</td>\n",
       "      <td>Sertraline</td>\n",
       "    </tr>\n",
       "    <tr>\n",
       "      <th>4</th>\n",
       "      <td>5</td>\n",
       "      <td>Arthritis</td>\n",
       "      <td>Ibuprofen</td>\n",
       "    </tr>\n",
       "    <tr>\n",
       "      <th>5</th>\n",
       "      <td>6</td>\n",
       "      <td>Migraine</td>\n",
       "      <td>Sumatriptan</td>\n",
       "    </tr>\n",
       "    <tr>\n",
       "      <th>6</th>\n",
       "      <td>7</td>\n",
       "      <td>Hyperthyroidism</td>\n",
       "      <td>Methimazole</td>\n",
       "    </tr>\n",
       "    <tr>\n",
       "      <th>7</th>\n",
       "      <td>8</td>\n",
       "      <td>Allergies</td>\n",
       "      <td>Loratadine</td>\n",
       "    </tr>\n",
       "    <tr>\n",
       "      <th>8</th>\n",
       "      <td>9</td>\n",
       "      <td>Acid reflux</td>\n",
       "      <td>Omeprazole</td>\n",
       "    </tr>\n",
       "    <tr>\n",
       "      <th>9</th>\n",
       "      <td>10</td>\n",
       "      <td>Epilepsy</td>\n",
       "      <td>Levetiracetam</td>\n",
       "    </tr>\n",
       "    <tr>\n",
       "      <th>10</th>\n",
       "      <td>11</td>\n",
       "      <td>Asthma</td>\n",
       "      <td>Methylprednisolone , Prednisone</td>\n",
       "    </tr>\n",
       "    <tr>\n",
       "      <th>11</th>\n",
       "      <td>12</td>\n",
       "      <td>Migraine</td>\n",
       "      <td>Panadol</td>\n",
       "    </tr>\n",
       "    <tr>\n",
       "      <th>12</th>\n",
       "      <td>13</td>\n",
       "      <td>Migraine</td>\n",
       "      <td>Brufen Rapid</td>\n",
       "    </tr>\n",
       "  </tbody>\n",
       "</table>\n",
       "</div>"
      ],
      "text/plain": [
       "    Patient ID          Disease                         Medicine\n",
       "0            1     Hypertension                       Amlodipine\n",
       "1            2         Diabetes                        Metformin\n",
       "2            3           Asthma                        Albuterol\n",
       "3            4       Depression                       Sertraline\n",
       "4            5        Arthritis                        Ibuprofen\n",
       "5            6         Migraine                      Sumatriptan\n",
       "6            7  Hyperthyroidism                      Methimazole\n",
       "7            8        Allergies                       Loratadine\n",
       "8            9      Acid reflux                       Omeprazole\n",
       "9           10         Epilepsy                    Levetiracetam\n",
       "10          11           Asthma  Methylprednisolone , Prednisone\n",
       "11          12         Migraine                          Panadol\n",
       "12          13         Migraine                    Brufen Rapid "
      ]
     },
     "execution_count": 1,
     "metadata": {},
     "output_type": "execute_result"
    }
   ],
   "source": [
    "import pandas as pd\n",
    "df = pd.read_csv('sample_dataset.csv')\n",
    "df\n"
   ]
  },
  {
   "cell_type": "code",
   "execution_count": 2,
   "id": "e0e6a7a2",
   "metadata": {},
   "outputs": [],
   "source": [
    "df['tags'] = (df['Disease'] + \" , \"+ df['Medicine'])"
   ]
  },
  {
   "cell_type": "code",
   "execution_count": 3,
   "id": "aba2aaae",
   "metadata": {},
   "outputs": [
    {
     "data": {
      "text/html": [
       "<div>\n",
       "<style scoped>\n",
       "    .dataframe tbody tr th:only-of-type {\n",
       "        vertical-align: middle;\n",
       "    }\n",
       "\n",
       "    .dataframe tbody tr th {\n",
       "        vertical-align: top;\n",
       "    }\n",
       "\n",
       "    .dataframe thead th {\n",
       "        text-align: right;\n",
       "    }\n",
       "</style>\n",
       "<table border=\"1\" class=\"dataframe\">\n",
       "  <thead>\n",
       "    <tr style=\"text-align: right;\">\n",
       "      <th></th>\n",
       "      <th>tags</th>\n",
       "    </tr>\n",
       "  </thead>\n",
       "  <tbody>\n",
       "    <tr>\n",
       "      <th>0</th>\n",
       "      <td>Hypertension , Amlodipine</td>\n",
       "    </tr>\n",
       "    <tr>\n",
       "      <th>1</th>\n",
       "      <td>Diabetes , Metformin</td>\n",
       "    </tr>\n",
       "    <tr>\n",
       "      <th>2</th>\n",
       "      <td>Asthma , Albuterol</td>\n",
       "    </tr>\n",
       "    <tr>\n",
       "      <th>3</th>\n",
       "      <td>Depression , Sertraline</td>\n",
       "    </tr>\n",
       "    <tr>\n",
       "      <th>4</th>\n",
       "      <td>Arthritis , Ibuprofen</td>\n",
       "    </tr>\n",
       "    <tr>\n",
       "      <th>5</th>\n",
       "      <td>Migraine , Sumatriptan</td>\n",
       "    </tr>\n",
       "    <tr>\n",
       "      <th>6</th>\n",
       "      <td>Hyperthyroidism , Methimazole</td>\n",
       "    </tr>\n",
       "    <tr>\n",
       "      <th>7</th>\n",
       "      <td>Allergies , Loratadine</td>\n",
       "    </tr>\n",
       "    <tr>\n",
       "      <th>8</th>\n",
       "      <td>Acid reflux , Omeprazole</td>\n",
       "    </tr>\n",
       "    <tr>\n",
       "      <th>9</th>\n",
       "      <td>Epilepsy , Levetiracetam</td>\n",
       "    </tr>\n",
       "    <tr>\n",
       "      <th>10</th>\n",
       "      <td>Asthma , Methylprednisolone , Prednisone</td>\n",
       "    </tr>\n",
       "    <tr>\n",
       "      <th>11</th>\n",
       "      <td>Migraine , Panadol</td>\n",
       "    </tr>\n",
       "    <tr>\n",
       "      <th>12</th>\n",
       "      <td>Migraine , Brufen Rapid</td>\n",
       "    </tr>\n",
       "  </tbody>\n",
       "</table>\n",
       "</div>"
      ],
      "text/plain": [
       "                                        tags\n",
       "0                  Hypertension , Amlodipine\n",
       "1                       Diabetes , Metformin\n",
       "2                         Asthma , Albuterol\n",
       "3                    Depression , Sertraline\n",
       "4                      Arthritis , Ibuprofen\n",
       "5                     Migraine , Sumatriptan\n",
       "6              Hyperthyroidism , Methimazole\n",
       "7                     Allergies , Loratadine\n",
       "8                   Acid reflux , Omeprazole\n",
       "9                   Epilepsy , Levetiracetam\n",
       "10  Asthma , Methylprednisolone , Prednisone\n",
       "11                        Migraine , Panadol\n",
       "12                  Migraine , Brufen Rapid "
      ]
     },
     "execution_count": 3,
     "metadata": {},
     "output_type": "execute_result"
    }
   ],
   "source": [
    "new_df = df[['tags']]\n",
    "new_df"
   ]
  },
  {
   "cell_type": "code",
   "execution_count": 4,
   "id": "ec2a5d09",
   "metadata": {},
   "outputs": [],
   "source": [
    "import nltk\n",
    "from nltk.stem.porter import PorterStemmer\n",
    "ps = PorterStemmer()"
   ]
  },
  {
   "cell_type": "code",
   "execution_count": 5,
   "id": "9afdcb2c",
   "metadata": {},
   "outputs": [],
   "source": [
    "def stem(text):\n",
    "    y = []\n",
    "\n",
    "    for i in text.split():\n",
    "        y.append(ps.stem(i))\n",
    "\n",
    "    return \" \".join(y) \n"
   ]
  },
  {
   "cell_type": "code",
   "execution_count": 6,
   "id": "3f81b1a7",
   "metadata": {},
   "outputs": [
    {
     "data": {
      "text/plain": [
       "0                      hypertens , amlodipin\n",
       "1                         diabet , metformin\n",
       "2                         asthma , albuterol\n",
       "3                        depress , sertralin\n",
       "4                       arthriti , ibuprofen\n",
       "5                      migrain , sumatriptan\n",
       "6                  hyperthyroid , methimazol\n",
       "7                        allergi , loratadin\n",
       "8                    acid reflux , omeprazol\n",
       "9                   epilepsi , levetiracetam\n",
       "10    asthma , methylprednisolon , prednison\n",
       "11                         migrain , panadol\n",
       "12                    migrain , brufen rapid\n",
       "Name: tags, dtype: object"
      ]
     },
     "execution_count": 6,
     "metadata": {},
     "output_type": "execute_result"
    }
   ],
   "source": [
    "new_df['tags'].apply(stem)"
   ]
  },
  {
   "cell_type": "code",
   "execution_count": 7,
   "id": "32d260a3",
   "metadata": {},
   "outputs": [
    {
     "data": {
      "text/html": [
       "<div>\n",
       "<style scoped>\n",
       "    .dataframe tbody tr th:only-of-type {\n",
       "        vertical-align: middle;\n",
       "    }\n",
       "\n",
       "    .dataframe tbody tr th {\n",
       "        vertical-align: top;\n",
       "    }\n",
       "\n",
       "    .dataframe thead th {\n",
       "        text-align: right;\n",
       "    }\n",
       "</style>\n",
       "<table border=\"1\" class=\"dataframe\">\n",
       "  <thead>\n",
       "    <tr style=\"text-align: right;\">\n",
       "      <th></th>\n",
       "      <th>tags</th>\n",
       "    </tr>\n",
       "  </thead>\n",
       "  <tbody>\n",
       "    <tr>\n",
       "      <th>0</th>\n",
       "      <td>Hypertension , Amlodipine</td>\n",
       "    </tr>\n",
       "    <tr>\n",
       "      <th>1</th>\n",
       "      <td>Diabetes , Metformin</td>\n",
       "    </tr>\n",
       "    <tr>\n",
       "      <th>2</th>\n",
       "      <td>Asthma , Albuterol</td>\n",
       "    </tr>\n",
       "    <tr>\n",
       "      <th>3</th>\n",
       "      <td>Depression , Sertraline</td>\n",
       "    </tr>\n",
       "    <tr>\n",
       "      <th>4</th>\n",
       "      <td>Arthritis , Ibuprofen</td>\n",
       "    </tr>\n",
       "    <tr>\n",
       "      <th>5</th>\n",
       "      <td>Migraine , Sumatriptan</td>\n",
       "    </tr>\n",
       "    <tr>\n",
       "      <th>6</th>\n",
       "      <td>Hyperthyroidism , Methimazole</td>\n",
       "    </tr>\n",
       "    <tr>\n",
       "      <th>7</th>\n",
       "      <td>Allergies , Loratadine</td>\n",
       "    </tr>\n",
       "    <tr>\n",
       "      <th>8</th>\n",
       "      <td>Acid reflux , Omeprazole</td>\n",
       "    </tr>\n",
       "    <tr>\n",
       "      <th>9</th>\n",
       "      <td>Epilepsy , Levetiracetam</td>\n",
       "    </tr>\n",
       "    <tr>\n",
       "      <th>10</th>\n",
       "      <td>Asthma , Methylprednisolone , Prednisone</td>\n",
       "    </tr>\n",
       "    <tr>\n",
       "      <th>11</th>\n",
       "      <td>Migraine , Panadol</td>\n",
       "    </tr>\n",
       "    <tr>\n",
       "      <th>12</th>\n",
       "      <td>Migraine , Brufen Rapid</td>\n",
       "    </tr>\n",
       "  </tbody>\n",
       "</table>\n",
       "</div>"
      ],
      "text/plain": [
       "                                        tags\n",
       "0                  Hypertension , Amlodipine\n",
       "1                       Diabetes , Metformin\n",
       "2                         Asthma , Albuterol\n",
       "3                    Depression , Sertraline\n",
       "4                      Arthritis , Ibuprofen\n",
       "5                     Migraine , Sumatriptan\n",
       "6              Hyperthyroidism , Methimazole\n",
       "7                     Allergies , Loratadine\n",
       "8                   Acid reflux , Omeprazole\n",
       "9                   Epilepsy , Levetiracetam\n",
       "10  Asthma , Methylprednisolone , Prednisone\n",
       "11                        Migraine , Panadol\n",
       "12                  Migraine , Brufen Rapid "
      ]
     },
     "execution_count": 7,
     "metadata": {},
     "output_type": "execute_result"
    }
   ],
   "source": [
    "new_df"
   ]
  },
  {
   "cell_type": "code",
   "execution_count": 8,
   "id": "1e2be9ca",
   "metadata": {},
   "outputs": [],
   "source": [
    "from sklearn.metrics.pairwise import cosine_similarity"
   ]
  },
  {
   "cell_type": "code",
   "execution_count": 9,
   "id": "8d434023",
   "metadata": {},
   "outputs": [],
   "source": [
    "from sklearn.feature_extraction.text import CountVectorizer\n",
    "cv = CountVectorizer(max_features = 2500 , stop_words = 'english')"
   ]
  },
  {
   "cell_type": "code",
   "execution_count": 10,
   "id": "f79476f8",
   "metadata": {},
   "outputs": [],
   "source": [
    "vectors = cv.fit_transform(new_df['tags']).toarray()"
   ]
  },
  {
   "cell_type": "code",
   "execution_count": 11,
   "id": "a950ad0b",
   "metadata": {},
   "outputs": [
    {
     "data": {
      "text/plain": [
       "array([[1.        , 0.        , 0.        , 0.        , 0.        ,\n",
       "        0.        , 0.        , 0.        , 0.        , 0.        ,\n",
       "        0.        , 0.        , 0.        ],\n",
       "       [0.        , 1.        , 0.        , 0.        , 0.        ,\n",
       "        0.        , 0.        , 0.        , 0.        , 0.        ,\n",
       "        0.        , 0.        , 0.        ],\n",
       "       [0.        , 0.        , 1.        , 0.        , 0.        ,\n",
       "        0.        , 0.        , 0.        , 0.        , 0.        ,\n",
       "        0.40824829, 0.        , 0.        ],\n",
       "       [0.        , 0.        , 0.        , 1.        , 0.        ,\n",
       "        0.        , 0.        , 0.        , 0.        , 0.        ,\n",
       "        0.        , 0.        , 0.        ],\n",
       "       [0.        , 0.        , 0.        , 0.        , 1.        ,\n",
       "        0.        , 0.        , 0.        , 0.        , 0.        ,\n",
       "        0.        , 0.        , 0.        ],\n",
       "       [0.        , 0.        , 0.        , 0.        , 0.        ,\n",
       "        1.        , 0.        , 0.        , 0.        , 0.        ,\n",
       "        0.        , 0.5       , 0.40824829],\n",
       "       [0.        , 0.        , 0.        , 0.        , 0.        ,\n",
       "        0.        , 1.        , 0.        , 0.        , 0.        ,\n",
       "        0.        , 0.        , 0.        ],\n",
       "       [0.        , 0.        , 0.        , 0.        , 0.        ,\n",
       "        0.        , 0.        , 1.        , 0.        , 0.        ,\n",
       "        0.        , 0.        , 0.        ],\n",
       "       [0.        , 0.        , 0.        , 0.        , 0.        ,\n",
       "        0.        , 0.        , 0.        , 1.        , 0.        ,\n",
       "        0.        , 0.        , 0.        ],\n",
       "       [0.        , 0.        , 0.        , 0.        , 0.        ,\n",
       "        0.        , 0.        , 0.        , 0.        , 1.        ,\n",
       "        0.        , 0.        , 0.        ],\n",
       "       [0.        , 0.        , 0.40824829, 0.        , 0.        ,\n",
       "        0.        , 0.        , 0.        , 0.        , 0.        ,\n",
       "        1.        , 0.        , 0.        ],\n",
       "       [0.        , 0.        , 0.        , 0.        , 0.        ,\n",
       "        0.5       , 0.        , 0.        , 0.        , 0.        ,\n",
       "        0.        , 1.        , 0.40824829],\n",
       "       [0.        , 0.        , 0.        , 0.        , 0.        ,\n",
       "        0.40824829, 0.        , 0.        , 0.        , 0.        ,\n",
       "        0.        , 0.40824829, 1.        ]])"
      ]
     },
     "execution_count": 11,
     "metadata": {},
     "output_type": "execute_result"
    }
   ],
   "source": [
    "cosine_similarity(vectors)"
   ]
  },
  {
   "cell_type": "code",
   "execution_count": 12,
   "id": "091ff6a0",
   "metadata": {},
   "outputs": [],
   "source": [
    "similarity = cosine_similarity(vectors)"
   ]
  },
  {
   "cell_type": "code",
   "execution_count": 13,
   "id": "e8baff18",
   "metadata": {},
   "outputs": [
    {
     "data": {
      "text/plain": [
       "[(1, 0.0), (2, 0.0)]"
      ]
     },
     "execution_count": 13,
     "metadata": {},
     "output_type": "execute_result"
    }
   ],
   "source": [
    "sorted(list(enumerate(similarity[0])),reverse = True ,key = lambda x:x[1])[1:3]"
   ]
  },
  {
   "cell_type": "code",
   "execution_count": 14,
   "id": "57d677c9",
   "metadata": {},
   "outputs": [
    {
     "data": {
      "text/plain": [
       "2"
      ]
     },
     "execution_count": 14,
     "metadata": {},
     "output_type": "execute_result"
    }
   ],
   "source": [
    "df[df['Medicine'] == 'Albuterol'].index[0]"
   ]
  },
  {
   "cell_type": "code",
   "execution_count": 17,
   "id": "cbe1c2de",
   "metadata": {},
   "outputs": [],
   "source": [
    "def recommend(medicine):\n",
    "    medicine_index = new_df[new_df['tags']=='medicine'].index[0]\n",
    "    distances = similarity[tags_index]\n",
    "    Tags_list = sorted(list(enumerate(distances)),reverse = True ,key = lambda x:x[1])[1:3]\n",
    "    \n",
    "    for i in Medicine_list:\n",
    "        print(new_df.iloc[i[0]].tags)"
   ]
  },
  {
   "cell_type": "code",
   "execution_count": 18,
   "id": "e53bca83",
   "metadata": {},
   "outputs": [
    {
     "name": "stdout",
     "output_type": "stream",
     "text": [
      "['Diabetes , Metformin', 'Asthma , Albuterol']\n"
     ]
    }
   ],
   "source": [
    "def recommend(medicine):\n",
    "    medicine_rows = new_df[new_df['tags'].str.contains(medicine)]\n",
    "    \n",
    "    if medicine_rows.empty:\n",
    "        print(\"No medicine with the given tag found.\")\n",
    "        return\n",
    "    \n",
    "    medicine_index = medicine_rows.index[0]\n",
    "    distances = similarity[medicine_index]\n",
    "    medicine_list = sorted(list(enumerate(distances)), reverse=True, key=lambda x: x[1])[1:3]\n",
    "    \n",
    "    recommended_medicines = []\n",
    "    \n",
    "    for i in medicine_list:\n",
    "        recommended_medicines.append(new_df.iloc[i[0]]['tags'])\n",
    "    \n",
    "    return recommended_medicines\n",
    "\n",
    "\n",
    "recommended_medicines = recommend('Hypertension')\n",
    "print(recommended_medicines)\n"
   ]
  },
  {
   "cell_type": "code",
   "execution_count": null,
   "id": "591e4ec8",
   "metadata": {},
   "outputs": [],
   "source": []
  }
 ],
 "metadata": {
  "kernelspec": {
   "display_name": "Python 3 (ipykernel)",
   "language": "python",
   "name": "python3"
  },
  "language_info": {
   "codemirror_mode": {
    "name": "ipython",
    "version": 3
   },
   "file_extension": ".py",
   "mimetype": "text/x-python",
   "name": "python",
   "nbconvert_exporter": "python",
   "pygments_lexer": "ipython3",
   "version": "3.9.13"
  }
 },
 "nbformat": 4,
 "nbformat_minor": 5
}
